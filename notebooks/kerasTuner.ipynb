{
  "nbformat": 4,
  "nbformat_minor": 0,
  "metadata": {
    "colab": {
      "name": "kerasTuner.ipynb",
      "provenance": [],
      "collapsed_sections": []
    },
    "kernelspec": {
      "name": "python3",
      "display_name": "Python 3"
    },
    "accelerator": "TPU"
  },
  "cells": [
    {
      "cell_type": "markdown",
      "metadata": {
        "id": "lEmHf-HWXMvB",
        "colab_type": "text"
      },
      "source": [
        "# **Run hyper parameter scan on SVHN (cropped)**\n",
        "\n",
        "First, install kerastuner and import the neccesary libraries\n"
      ]
    },
    {
      "cell_type": "code",
      "metadata": {
        "id": "qRaLbhXnXeoR",
        "colab_type": "code",
        "colab": {
          "base_uri": "https://localhost:8080/",
          "height": 289
        },
        "outputId": "f54442c7-0dbc-48cc-d8e3-82843feb4508"
      },
      "source": [
        "!pip install -U keras-tuner\n",
        "!export KERASTUNER_TUNER_ID=\"tuner0\"\n",
        "!export KERASTUNER_ORACLE_IP=\"127.0.0.1\"\n",
        "!export KERASTUNER_ORACLE_PORT=\"8000\"\n",
        "import os\n",
        "import IPython\n",
        "import kerastuner as kt\n",
        "\n",
        "%tensorflow_version 2.x\n",
        "import tensorflow as tf\n",
        "print(\"Tensorflow version \" + tf.__version__)\n",
        "import tensorflow_datasets as tfds\n",
        "AUTO = tf.data.experimental.AUTOTUNE"
      ],
      "execution_count": 1,
      "outputs": [
        {
          "output_type": "stream",
          "text": [
            "Requirement already up-to-date: keras-tuner in /usr/local/lib/python3.6/dist-packages (1.0.1)\n",
            "Requirement already satisfied, skipping upgrade: future in /usr/local/lib/python3.6/dist-packages (from keras-tuner) (0.16.0)\n",
            "Requirement already satisfied, skipping upgrade: numpy in /usr/local/lib/python3.6/dist-packages (from keras-tuner) (1.18.5)\n",
            "Requirement already satisfied, skipping upgrade: colorama in /usr/local/lib/python3.6/dist-packages (from keras-tuner) (0.4.3)\n",
            "Requirement already satisfied, skipping upgrade: requests in /usr/local/lib/python3.6/dist-packages (from keras-tuner) (2.23.0)\n",
            "Requirement already satisfied, skipping upgrade: terminaltables in /usr/local/lib/python3.6/dist-packages (from keras-tuner) (3.1.0)\n",
            "Requirement already satisfied, skipping upgrade: tabulate in /usr/local/lib/python3.6/dist-packages (from keras-tuner) (0.8.7)\n",
            "Requirement already satisfied, skipping upgrade: tqdm in /usr/local/lib/python3.6/dist-packages (from keras-tuner) (4.41.1)\n",
            "Requirement already satisfied, skipping upgrade: scikit-learn in /usr/local/lib/python3.6/dist-packages (from keras-tuner) (0.22.2.post1)\n",
            "Requirement already satisfied, skipping upgrade: scipy in /usr/local/lib/python3.6/dist-packages (from keras-tuner) (1.4.1)\n",
            "Requirement already satisfied, skipping upgrade: chardet<4,>=3.0.2 in /usr/local/lib/python3.6/dist-packages (from requests->keras-tuner) (3.0.4)\n",
            "Requirement already satisfied, skipping upgrade: urllib3!=1.25.0,!=1.25.1,<1.26,>=1.21.1 in /usr/local/lib/python3.6/dist-packages (from requests->keras-tuner) (1.24.3)\n",
            "Requirement already satisfied, skipping upgrade: idna<3,>=2.5 in /usr/local/lib/python3.6/dist-packages (from requests->keras-tuner) (2.10)\n",
            "Requirement already satisfied, skipping upgrade: certifi>=2017.4.17 in /usr/local/lib/python3.6/dist-packages (from requests->keras-tuner) (2020.6.20)\n",
            "Requirement already satisfied, skipping upgrade: joblib>=0.11 in /usr/local/lib/python3.6/dist-packages (from scikit-learn->keras-tuner) (0.16.0)\n",
            "Tensorflow version 2.2.0\n"
          ],
          "name": "stdout"
        }
      ]
    },
    {
      "cell_type": "markdown",
      "metadata": {
        "id": "9fUMxUgQbJAl",
        "colab_type": "text"
      },
      "source": [
        "Set up *TPU* accelerators (if available)"
      ]
    },
    {
      "cell_type": "code",
      "metadata": {
        "id": "qUP1PBJ6bGXX",
        "colab_type": "code",
        "colab": {
          "base_uri": "https://localhost:8080/",
          "height": 714
        },
        "outputId": "748262fd-e2d1-4726-829f-840dbd5f0308"
      },
      "source": [
        "try: # detect TPUs\n",
        "  tpu = None\n",
        "  tpu = tf.distribute.cluster_resolver.TPUClusterResolver() # TPU detection\n",
        "  tf.config.experimental_connect_to_cluster(tpu)\n",
        "  tf.tpu.experimental.initialize_tpu_system(tpu)\n",
        "  strategy = tf.distribute.experimental.TPUStrategy(tpu)\n",
        "except ValueError: # detect GPUs\n",
        "  strategy = tf.distribute.MirroredStrategy() # for GPU or multi-GPU machines\n",
        "  #strategy = tf.distribute.get_strategy() # default strategy that works on CPU and single GPU\n",
        "  #strategy = tf.distribute.experimental.MultiWorkerMirroredStrategy() # for clusters of multi-GPU machines\n",
        "\n",
        "print(\"Number of accelerators: \", strategy.num_replicas_in_sync)"
      ],
      "execution_count": 2,
      "outputs": [
        {
          "output_type": "stream",
          "text": [
            "INFO:tensorflow:Initializing the TPU system: grpc://10.106.242.42:8470\n"
          ],
          "name": "stdout"
        },
        {
          "output_type": "stream",
          "text": [
            "INFO:tensorflow:Initializing the TPU system: grpc://10.106.242.42:8470\n"
          ],
          "name": "stderr"
        },
        {
          "output_type": "stream",
          "text": [
            "INFO:tensorflow:Clearing out eager caches\n"
          ],
          "name": "stdout"
        },
        {
          "output_type": "stream",
          "text": [
            "INFO:tensorflow:Clearing out eager caches\n"
          ],
          "name": "stderr"
        },
        {
          "output_type": "stream",
          "text": [
            "INFO:tensorflow:Finished initializing TPU system.\n"
          ],
          "name": "stdout"
        },
        {
          "output_type": "stream",
          "text": [
            "INFO:tensorflow:Finished initializing TPU system.\n"
          ],
          "name": "stderr"
        },
        {
          "output_type": "stream",
          "text": [
            "INFO:tensorflow:Found TPU system:\n"
          ],
          "name": "stdout"
        },
        {
          "output_type": "stream",
          "text": [
            "INFO:tensorflow:Found TPU system:\n"
          ],
          "name": "stderr"
        },
        {
          "output_type": "stream",
          "text": [
            "INFO:tensorflow:*** Num TPU Cores: 8\n"
          ],
          "name": "stdout"
        },
        {
          "output_type": "stream",
          "text": [
            "INFO:tensorflow:*** Num TPU Cores: 8\n"
          ],
          "name": "stderr"
        },
        {
          "output_type": "stream",
          "text": [
            "INFO:tensorflow:*** Num TPU Workers: 1\n"
          ],
          "name": "stdout"
        },
        {
          "output_type": "stream",
          "text": [
            "INFO:tensorflow:*** Num TPU Workers: 1\n"
          ],
          "name": "stderr"
        },
        {
          "output_type": "stream",
          "text": [
            "INFO:tensorflow:*** Num TPU Cores Per Worker: 8\n"
          ],
          "name": "stdout"
        },
        {
          "output_type": "stream",
          "text": [
            "INFO:tensorflow:*** Num TPU Cores Per Worker: 8\n"
          ],
          "name": "stderr"
        },
        {
          "output_type": "stream",
          "text": [
            "INFO:tensorflow:*** Available Device: _DeviceAttributes(/job:localhost/replica:0/task:0/device:CPU:0, CPU, 0, 0)\n"
          ],
          "name": "stdout"
        },
        {
          "output_type": "stream",
          "text": [
            "INFO:tensorflow:*** Available Device: _DeviceAttributes(/job:localhost/replica:0/task:0/device:CPU:0, CPU, 0, 0)\n"
          ],
          "name": "stderr"
        },
        {
          "output_type": "stream",
          "text": [
            "INFO:tensorflow:*** Available Device: _DeviceAttributes(/job:localhost/replica:0/task:0/device:XLA_CPU:0, XLA_CPU, 0, 0)\n"
          ],
          "name": "stdout"
        },
        {
          "output_type": "stream",
          "text": [
            "INFO:tensorflow:*** Available Device: _DeviceAttributes(/job:localhost/replica:0/task:0/device:XLA_CPU:0, XLA_CPU, 0, 0)\n"
          ],
          "name": "stderr"
        },
        {
          "output_type": "stream",
          "text": [
            "INFO:tensorflow:*** Available Device: _DeviceAttributes(/job:worker/replica:0/task:0/device:CPU:0, CPU, 0, 0)\n"
          ],
          "name": "stdout"
        },
        {
          "output_type": "stream",
          "text": [
            "INFO:tensorflow:*** Available Device: _DeviceAttributes(/job:worker/replica:0/task:0/device:CPU:0, CPU, 0, 0)\n"
          ],
          "name": "stderr"
        },
        {
          "output_type": "stream",
          "text": [
            "INFO:tensorflow:*** Available Device: _DeviceAttributes(/job:worker/replica:0/task:0/device:TPU:0, TPU, 0, 0)\n"
          ],
          "name": "stdout"
        },
        {
          "output_type": "stream",
          "text": [
            "INFO:tensorflow:*** Available Device: _DeviceAttributes(/job:worker/replica:0/task:0/device:TPU:0, TPU, 0, 0)\n"
          ],
          "name": "stderr"
        },
        {
          "output_type": "stream",
          "text": [
            "INFO:tensorflow:*** Available Device: _DeviceAttributes(/job:worker/replica:0/task:0/device:TPU:1, TPU, 0, 0)\n"
          ],
          "name": "stdout"
        },
        {
          "output_type": "stream",
          "text": [
            "INFO:tensorflow:*** Available Device: _DeviceAttributes(/job:worker/replica:0/task:0/device:TPU:1, TPU, 0, 0)\n"
          ],
          "name": "stderr"
        },
        {
          "output_type": "stream",
          "text": [
            "INFO:tensorflow:*** Available Device: _DeviceAttributes(/job:worker/replica:0/task:0/device:TPU:2, TPU, 0, 0)\n"
          ],
          "name": "stdout"
        },
        {
          "output_type": "stream",
          "text": [
            "INFO:tensorflow:*** Available Device: _DeviceAttributes(/job:worker/replica:0/task:0/device:TPU:2, TPU, 0, 0)\n"
          ],
          "name": "stderr"
        },
        {
          "output_type": "stream",
          "text": [
            "INFO:tensorflow:*** Available Device: _DeviceAttributes(/job:worker/replica:0/task:0/device:TPU:3, TPU, 0, 0)\n"
          ],
          "name": "stdout"
        },
        {
          "output_type": "stream",
          "text": [
            "INFO:tensorflow:*** Available Device: _DeviceAttributes(/job:worker/replica:0/task:0/device:TPU:3, TPU, 0, 0)\n"
          ],
          "name": "stderr"
        },
        {
          "output_type": "stream",
          "text": [
            "INFO:tensorflow:*** Available Device: _DeviceAttributes(/job:worker/replica:0/task:0/device:TPU:4, TPU, 0, 0)\n"
          ],
          "name": "stdout"
        },
        {
          "output_type": "stream",
          "text": [
            "INFO:tensorflow:*** Available Device: _DeviceAttributes(/job:worker/replica:0/task:0/device:TPU:4, TPU, 0, 0)\n"
          ],
          "name": "stderr"
        },
        {
          "output_type": "stream",
          "text": [
            "INFO:tensorflow:*** Available Device: _DeviceAttributes(/job:worker/replica:0/task:0/device:TPU:5, TPU, 0, 0)\n"
          ],
          "name": "stdout"
        },
        {
          "output_type": "stream",
          "text": [
            "INFO:tensorflow:*** Available Device: _DeviceAttributes(/job:worker/replica:0/task:0/device:TPU:5, TPU, 0, 0)\n"
          ],
          "name": "stderr"
        },
        {
          "output_type": "stream",
          "text": [
            "INFO:tensorflow:*** Available Device: _DeviceAttributes(/job:worker/replica:0/task:0/device:TPU:6, TPU, 0, 0)\n"
          ],
          "name": "stdout"
        },
        {
          "output_type": "stream",
          "text": [
            "INFO:tensorflow:*** Available Device: _DeviceAttributes(/job:worker/replica:0/task:0/device:TPU:6, TPU, 0, 0)\n"
          ],
          "name": "stderr"
        },
        {
          "output_type": "stream",
          "text": [
            "INFO:tensorflow:*** Available Device: _DeviceAttributes(/job:worker/replica:0/task:0/device:TPU:7, TPU, 0, 0)\n"
          ],
          "name": "stdout"
        },
        {
          "output_type": "stream",
          "text": [
            "INFO:tensorflow:*** Available Device: _DeviceAttributes(/job:worker/replica:0/task:0/device:TPU:7, TPU, 0, 0)\n"
          ],
          "name": "stderr"
        },
        {
          "output_type": "stream",
          "text": [
            "INFO:tensorflow:*** Available Device: _DeviceAttributes(/job:worker/replica:0/task:0/device:TPU_SYSTEM:0, TPU_SYSTEM, 0, 0)\n"
          ],
          "name": "stdout"
        },
        {
          "output_type": "stream",
          "text": [
            "INFO:tensorflow:*** Available Device: _DeviceAttributes(/job:worker/replica:0/task:0/device:TPU_SYSTEM:0, TPU_SYSTEM, 0, 0)\n"
          ],
          "name": "stderr"
        },
        {
          "output_type": "stream",
          "text": [
            "INFO:tensorflow:*** Available Device: _DeviceAttributes(/job:worker/replica:0/task:0/device:XLA_CPU:0, XLA_CPU, 0, 0)\n"
          ],
          "name": "stdout"
        },
        {
          "output_type": "stream",
          "text": [
            "INFO:tensorflow:*** Available Device: _DeviceAttributes(/job:worker/replica:0/task:0/device:XLA_CPU:0, XLA_CPU, 0, 0)\n"
          ],
          "name": "stderr"
        },
        {
          "output_type": "stream",
          "text": [
            "Number of accelerators:  8\n"
          ],
          "name": "stdout"
        }
      ]
    },
    {
      "cell_type": "markdown",
      "metadata": {
        "id": "wrbxueYol1Hm",
        "colab_type": "text"
      },
      "source": [
        "Authenticate"
      ]
    },
    {
      "cell_type": "code",
      "metadata": {
        "id": "O7J_tLr7l3YC",
        "colab_type": "code",
        "colab": {}
      },
      "source": [
        "from google.colab import auth\n",
        "auth.authenticate_user()"
      ],
      "execution_count": 3,
      "outputs": []
    },
    {
      "cell_type": "markdown",
      "metadata": {
        "id": "78OtTqg8XsGa",
        "colab_type": "text"
      },
      "source": [
        "Get the SVHN cropped dataset (32,32,3) streetnumber images (! Remember to create your own bucket the Cloud can access and pass it to data_dir)"
      ]
    },
    {
      "cell_type": "code",
      "metadata": {
        "id": "diW3xj8-YNt2",
        "colab_type": "code",
        "colab": {
          "base_uri": "https://localhost:8080/",
          "height": 68
        },
        "outputId": "8927d477-85e2-4054-c856-25e507425ac7"
      },
      "source": [
        "if tpu:\n",
        "  BATCH_SIZE = 16*strategy.num_replicas_in_sync  # A TPU has 8 cores so this will be 128\n",
        "else:\n",
        "  BATCH_SIZE = 32  # On Colab/GPU, a higher batch size does not help and sometimes does not fit on the GPU (OOM)\n",
        "\n",
        "def convert_dataset(item):\n",
        "    \"\"\"Puts the mnist dataset in the format Keras expects, (features, labels).\"\"\"\n",
        "    image = item['image']\n",
        "    label = item['label']\n",
        "    label = tf.one_hot(tf.squeeze(label), 10)\n",
        "    image = tf.dtypes.cast(image, 'float32') / 255.\n",
        "    return image, label\n",
        "    \n",
        "ds_data = tfds.load('svhn_cropped',data_dir=\"gs://thaarres_bucket\")#'gs://tfds-data/datasets')\n",
        "ds_train, ds_test = ds_data['train'], ds_data['test']\n",
        "ds_train = ds_train.map(convert_dataset)\n",
        "ds_train = ds_train.cache()\n",
        "ds_train = ds_train.repeat()\n",
        "ds_train = ds_train.batch(BATCH_SIZE)\n",
        "ds_train = ds_train.prefetch(AUTO)\n",
        "ds_test = ds_test.map(convert_dataset)\n",
        "ds_test = ds_test.cache()\n",
        "ds_test = ds_test.batch(BATCH_SIZE)\n",
        "ds_test = ds_test.prefetch(AUTO)\n",
        "\n",
        "\n",
        "\n",
        "for img_feature, label in ds_train:\n",
        "      break\n",
        "print(\" --------------INPUT INFO --------------\")\n",
        "print('INPUT img_feature.shape (batch_size, image_height, image_width) =', img_feature.shape)\n",
        "print('INPUT label.shape (batch_size, number_of_labels) =', label.shape)\n",
        "IMAGE_SIZE = [img_feature.shape[1], img_feature.shape[2]]\n",
        "\n",
        "EPOCHS = 20\n",
        "steps_per_epoch=73257//BATCH_SIZE\n"
      ],
      "execution_count": 4,
      "outputs": [
        {
          "output_type": "stream",
          "text": [
            " --------------INPUT INFO --------------\n",
            "INPUT img_feature.shape (batch_size, image_height, image_width) = (128, 32, 32, 3)\n",
            "INPUT label.shape (batch_size, number_of_labels) = (128, 10)\n"
          ],
          "name": "stdout"
        }
      ]
    },
    {
      "cell_type": "markdown",
      "metadata": {
        "id": "5M1TSreo8pIl",
        "colab_type": "text"
      },
      "source": [
        "Do a small training to check that everything is working correctly"
      ]
    },
    {
      "cell_type": "code",
      "metadata": {
        "id": "Yvh4dzTn7cox",
        "colab_type": "code",
        "colab": {
          "base_uri": "https://localhost:8080/",
          "height": 765
        },
        "outputId": "e2a4e929-d08d-4590-f05a-f8d78888f26e"
      },
      "source": [
        "# #Do test\n",
        "# with strategy.scope(): # this line is all that is needed to run on TPU (or multi-GPU, ...)\n",
        "\n",
        "#   model = tf.keras.Sequential([\n",
        "#       tf.keras.layers.Conv2D(kernel_size=3, filters=16, padding='same', activation='relu', input_shape=[*IMAGE_SIZE, 3]),\n",
        "#       tf.keras.layers.Conv2D(kernel_size=3, filters=30, padding='same', activation='relu'),\n",
        "#       tf.keras.layers.MaxPooling2D(pool_size=2),\n",
        "#       tf.keras.layers.Conv2D(kernel_size=3, filters=60, padding='same', activation='relu'),\n",
        "#       tf.keras.layers.MaxPooling2D(pool_size=2),\n",
        "#       tf.keras.layers.Conv2D(kernel_size=3, filters=90, padding='same', activation='relu'),\n",
        "#       tf.keras.layers.MaxPooling2D(pool_size=2),\n",
        "#       tf.keras.layers.Conv2D(kernel_size=3, filters=110, padding='same', activation='relu'),\n",
        "#       tf.keras.layers.MaxPooling2D(pool_size=2),\n",
        "#       tf.keras.layers.Conv2D(kernel_size=3, filters=130, padding='same', activation='relu'),\n",
        "#       tf.keras.layers.Conv2D(kernel_size=1, filters=40, padding='same', activation='relu'),\n",
        "#       tf.keras.layers.GlobalAveragePooling2D(),\n",
        "#       tf.keras.layers.Dense(10, activation='softmax')\n",
        "#   ])\n",
        "\n",
        "#   model.compile(\n",
        "#     optimizer='adam',\n",
        "#     loss= 'categorical_crossentropy',\n",
        "#     metrics=['accuracy'])\n",
        "\n",
        "#   model.summary()\n",
        "\n",
        "#   history = model.fit(ds_train, steps_per_epoch=steps_per_epoch, epochs=5,\n",
        "#                     validation_data=ds_test)"
      ],
      "execution_count": 5,
      "outputs": [
        {
          "output_type": "stream",
          "text": [
            "Model: \"sequential\"\n",
            "_________________________________________________________________\n",
            "Layer (type)                 Output Shape              Param #   \n",
            "=================================================================\n",
            "conv2d (Conv2D)              (None, 32, 32, 16)        448       \n",
            "_________________________________________________________________\n",
            "conv2d_1 (Conv2D)            (None, 32, 32, 30)        4350      \n",
            "_________________________________________________________________\n",
            "max_pooling2d (MaxPooling2D) (None, 16, 16, 30)        0         \n",
            "_________________________________________________________________\n",
            "conv2d_2 (Conv2D)            (None, 16, 16, 60)        16260     \n",
            "_________________________________________________________________\n",
            "max_pooling2d_1 (MaxPooling2 (None, 8, 8, 60)          0         \n",
            "_________________________________________________________________\n",
            "conv2d_3 (Conv2D)            (None, 8, 8, 90)          48690     \n",
            "_________________________________________________________________\n",
            "max_pooling2d_2 (MaxPooling2 (None, 4, 4, 90)          0         \n",
            "_________________________________________________________________\n",
            "conv2d_4 (Conv2D)            (None, 4, 4, 110)         89210     \n",
            "_________________________________________________________________\n",
            "max_pooling2d_3 (MaxPooling2 (None, 2, 2, 110)         0         \n",
            "_________________________________________________________________\n",
            "conv2d_5 (Conv2D)            (None, 2, 2, 130)         128830    \n",
            "_________________________________________________________________\n",
            "conv2d_6 (Conv2D)            (None, 2, 2, 40)          5240      \n",
            "_________________________________________________________________\n",
            "global_average_pooling2d (Gl (None, 40)                0         \n",
            "_________________________________________________________________\n",
            "dense (Dense)                (None, 10)                410       \n",
            "=================================================================\n",
            "Total params: 293,438\n",
            "Trainable params: 293,438\n",
            "Non-trainable params: 0\n",
            "_________________________________________________________________\n",
            "Epoch 1/5\n",
            "572/572 [==============================] - 14s 25ms/step - accuracy: 0.5257 - loss: 1.3731 - val_accuracy: 0.8284 - val_loss: 0.5751\n",
            "Epoch 2/5\n",
            "572/572 [==============================] - 11s 20ms/step - accuracy: 0.8609 - loss: 0.4566 - val_accuracy: 0.8717 - val_loss: 0.4355\n",
            "Epoch 3/5\n",
            "572/572 [==============================] - 12s 21ms/step - accuracy: 0.8959 - loss: 0.3456 - val_accuracy: 0.8922 - val_loss: 0.3689\n",
            "Epoch 4/5\n",
            "572/572 [==============================] - 12s 21ms/step - accuracy: 0.9132 - loss: 0.2909 - val_accuracy: 0.9026 - val_loss: 0.3416\n",
            "Epoch 5/5\n",
            "572/572 [==============================] - 12s 20ms/step - accuracy: 0.9254 - loss: 0.2537 - val_accuracy: 0.9099 - val_loss: 0.3104\n"
          ],
          "name": "stdout"
        }
      ]
    },
    {
      "cell_type": "markdown",
      "metadata": {
        "id": "WEGc851MXhKS",
        "colab_type": "text"
      },
      "source": [
        "Then define the model"
      ]
    },
    {
      "cell_type": "code",
      "metadata": {
        "id": "YSP6vEDgXoLA",
        "colab_type": "code",
        "colab": {}
      },
      "source": [
        "def build_model(hp):\n",
        "    inputs = tf.keras.Input(shape=[*IMAGE_SIZE, 3])\n",
        "    x = inputs\n",
        "    for i in range(hp.Int('conv_layers', 1, 3, default=3)):\n",
        "        x = tf.keras.layers.Conv2D( #tf.keras.layers.SeparableConv2D(\n",
        "            filters=hp.Int('filters_' + str(i), 4, 32, step=4, default=8),\n",
        "            kernel_size=hp.Int('kernel_size_' + str(i), 3, 5),\n",
        "            activation='relu',\n",
        "            padding='same')(x)\n",
        "\n",
        "        if hp.Choice('pooling' + str(i), ['max', 'avg']) == 'max':\n",
        "            x = tf.keras.layers.MaxPooling2D()(x)\n",
        "        else:\n",
        "            x = tf.keras.layers.AveragePooling2D()(x)\n",
        "\n",
        "        x = tf.keras.layers.BatchNormalization()(x)\n",
        "        x = tf.keras.layers.ReLU()(x)\n",
        "\n",
        "    if hp.Choice('global_flatten', ['max', 'avg']) == 'max':\n",
        "        x = tf.keras.layers.GlobalMaxPooling2D()(x)\n",
        "    else:\n",
        "        x = tf.keras.layers.GlobalAveragePooling2D()(x)\n",
        "    # else:\n",
        "    #   x = tf.keras.layers.Flatten()\n",
        "    for i in range(hp.Int('dense_layers', 0, 2, default=1)):\n",
        "        x = tf.keras.layers.Dense(\n",
        "            units=hp.Int('neurons_' + str(i), 64, 256, step=64, default=128),\n",
        "            activation='relu')(x)\n",
        "\n",
        "    outputs = tf.keras.layers.Dense(10, activation='softmax')(x)\n",
        "\n",
        "    model = tf.keras.Model(inputs, outputs)\n",
        "\n",
        "    # optimizer = hp.Choice('optimizer', ['adam', 'sgd'])\n",
        "    lr = hp.Float('learning_rate', 1e-4, 1e-2, sampling='log', default=1e-3)\n",
        "    model.compile(tf.keras.optimizers.Adam(lr), loss='categorical_crossentropy', metrics=['accuracy'])\n",
        "    print(\"Testing model:\")\n",
        "    model.summary()\n",
        "    return model"
      ],
      "execution_count": 16,
      "outputs": []
    },
    {
      "cell_type": "markdown",
      "metadata": {
        "id": "Zd_AI3pfYWiu",
        "colab_type": "text"
      },
      "source": [
        "Define the keras-tuner object to run the hyperparameter search"
      ]
    },
    {
      "cell_type": "code",
      "metadata": {
        "id": "_lE9AmqZVEdO",
        "colab_type": "code",
        "colab": {
          "base_uri": "https://localhost:8080/",
          "height": 714
        },
        "outputId": "d9d93ffe-8dcf-4ccd-f202-69c75ac2009c"
      },
      "source": [
        "# !gsutil rm -r gs://bucket/subdir\n",
        "tuner = kt.Hyperband(\n",
        "        hypermodel=build_model,\n",
        "        objective='val_accuracy',\n",
        "        max_epochs=100,\n",
        "        factor=3,\n",
        "        hyperband_iterations=3,\n",
        "        distribution_strategy=strategy,\n",
        "        directory='gs://thaarres_bucket/keras-tune-svhn',\n",
        "        project_name='v1_conv2D_globPool',\n",
        "        overwrite=True)"
      ],
      "execution_count": 18,
      "outputs": [
        {
          "output_type": "stream",
          "text": [
            "Testing model:\n",
            "Model: \"model\"\n",
            "_________________________________________________________________\n",
            "Layer (type)                 Output Shape              Param #   \n",
            "=================================================================\n",
            "input_1 (InputLayer)         [(None, 32, 32, 3)]       0         \n",
            "_________________________________________________________________\n",
            "conv2d (Conv2D)              (None, 32, 32, 8)         224       \n",
            "_________________________________________________________________\n",
            "max_pooling2d (MaxPooling2D) (None, 16, 16, 8)         0         \n",
            "_________________________________________________________________\n",
            "batch_normalization (BatchNo (None, 16, 16, 8)         32        \n",
            "_________________________________________________________________\n",
            "re_lu (ReLU)                 (None, 16, 16, 8)         0         \n",
            "_________________________________________________________________\n",
            "conv2d_1 (Conv2D)            (None, 16, 16, 8)         584       \n",
            "_________________________________________________________________\n",
            "max_pooling2d_1 (MaxPooling2 (None, 8, 8, 8)           0         \n",
            "_________________________________________________________________\n",
            "batch_normalization_1 (Batch (None, 8, 8, 8)           32        \n",
            "_________________________________________________________________\n",
            "re_lu_1 (ReLU)               (None, 8, 8, 8)           0         \n",
            "_________________________________________________________________\n",
            "conv2d_2 (Conv2D)            (None, 8, 8, 8)           584       \n",
            "_________________________________________________________________\n",
            "max_pooling2d_2 (MaxPooling2 (None, 4, 4, 8)           0         \n",
            "_________________________________________________________________\n",
            "batch_normalization_2 (Batch (None, 4, 4, 8)           32        \n",
            "_________________________________________________________________\n",
            "re_lu_2 (ReLU)               (None, 4, 4, 8)           0         \n",
            "_________________________________________________________________\n",
            "global_max_pooling2d (Global (None, 8)                 0         \n",
            "_________________________________________________________________\n",
            "dense (Dense)                (None, 128)               1152      \n",
            "_________________________________________________________________\n",
            "dense_1 (Dense)              (None, 10)                1290      \n",
            "=================================================================\n",
            "Total params: 3,930\n",
            "Trainable params: 3,882\n",
            "Non-trainable params: 48\n",
            "_________________________________________________________________\n"
          ],
          "name": "stdout"
        }
      ]
    },
    {
      "cell_type": "markdown",
      "metadata": {
        "id": "-EKBnbqlZKQK",
        "colab_type": "text"
      },
      "source": [
        "Before running the search, define a callback to clear  training outputs after every training step."
      ]
    },
    {
      "cell_type": "code",
      "metadata": {
        "id": "QtRSP1_LZPSy",
        "colab_type": "code",
        "colab": {}
      },
      "source": [
        "class ClearTrainingOutput(tf.keras.callbacks.Callback):\n",
        "  def on_train_end(*args, **kwargs):\n",
        "    IPython.display.clear_output(wait = True)"
      ],
      "execution_count": 19,
      "outputs": []
    },
    {
      "cell_type": "markdown",
      "metadata": {
        "id": "SbQlZxzQZYW5",
        "colab_type": "text"
      },
      "source": [
        "Run scan"
      ]
    },
    {
      "cell_type": "code",
      "metadata": {
        "id": "hZsXsNTjZbms",
        "colab_type": "code",
        "colab": {
          "base_uri": "https://localhost:8080/",
          "height": 1000
        },
        "outputId": "73358c24-fe56-4541-ad08-304e62bbff4f"
      },
      "source": [
        " EPOCHS=100\n",
        " \n",
        " print(\" Steps per epoch is {}\".format(steps_per_epoch))\n",
        " tuner.search(ds_train,\n",
        "                 steps_per_epoch=steps_per_epoch,\n",
        "                 validation_data=ds_test,\n",
        "                 epochs=EPOCHS,\n",
        "                 callbacks=[tf.keras.callbacks.EarlyStopping('val_accuracy'),ClearTrainingOutput()])"
      ],
      "execution_count": null,
      "outputs": [
        {
          "output_type": "display_data",
          "data": {
            "text/html": [
              "<span style=\"color:#4527A0\"><h1 style=\"font-size:18px\">Trial complete</h1></span>"
            ],
            "text/plain": [
              "<IPython.core.display.HTML object>"
            ]
          },
          "metadata": {
            "tags": []
          }
        },
        {
          "output_type": "display_data",
          "data": {
            "text/html": [
              "<span style=\"color:#4527A0\"><h1 style=\"font-size:18px\">Trial summary</h1></span>"
            ],
            "text/plain": [
              "<IPython.core.display.HTML object>"
            ]
          },
          "metadata": {
            "tags": []
          }
        },
        {
          "output_type": "display_data",
          "data": {
            "text/html": [
              "<span style=\"color:cyan\"> |-Trial ID: f2f526388ab77ff8f20fb866a9e37d32</span>"
            ],
            "text/plain": [
              "<IPython.core.display.HTML object>"
            ]
          },
          "metadata": {
            "tags": []
          }
        },
        {
          "output_type": "display_data",
          "data": {
            "text/html": [
              "<span style=\"color:cyan\"> |-Score: 0.8635141253471375</span>"
            ],
            "text/plain": [
              "<IPython.core.display.HTML object>"
            ]
          },
          "metadata": {
            "tags": []
          }
        },
        {
          "output_type": "display_data",
          "data": {
            "text/html": [
              "<span style=\"color:cyan\"> |-Best step: 0</span>"
            ],
            "text/plain": [
              "<IPython.core.display.HTML object>"
            ]
          },
          "metadata": {
            "tags": []
          }
        },
        {
          "output_type": "display_data",
          "data": {
            "text/html": [
              "<span style=\"color:#7E57C2\"><h2 style=\"font-size:16px\">Hyperparameters:</h2></span>"
            ],
            "text/plain": [
              "<IPython.core.display.HTML object>"
            ]
          },
          "metadata": {
            "tags": []
          }
        },
        {
          "output_type": "display_data",
          "data": {
            "text/html": [
              "<span style=\"color:cyan\"> |-conv_layers: 3</span>"
            ],
            "text/plain": [
              "<IPython.core.display.HTML object>"
            ]
          },
          "metadata": {
            "tags": []
          }
        },
        {
          "output_type": "display_data",
          "data": {
            "text/html": [
              "<span style=\"color:blue\"> |-dense_layers: 1</span>"
            ],
            "text/plain": [
              "<IPython.core.display.HTML object>"
            ]
          },
          "metadata": {
            "tags": []
          }
        },
        {
          "output_type": "display_data",
          "data": {
            "text/html": [
              "<span style=\"color:cyan\"> |-filters_0: 16</span>"
            ],
            "text/plain": [
              "<IPython.core.display.HTML object>"
            ]
          },
          "metadata": {
            "tags": []
          }
        },
        {
          "output_type": "display_data",
          "data": {
            "text/html": [
              "<span style=\"color:blue\"> |-filters_1: 12</span>"
            ],
            "text/plain": [
              "<IPython.core.display.HTML object>"
            ]
          },
          "metadata": {
            "tags": []
          }
        },
        {
          "output_type": "display_data",
          "data": {
            "text/html": [
              "<span style=\"color:cyan\"> |-filters_2: 28</span>"
            ],
            "text/plain": [
              "<IPython.core.display.HTML object>"
            ]
          },
          "metadata": {
            "tags": []
          }
        },
        {
          "output_type": "display_data",
          "data": {
            "text/html": [
              "<span style=\"color:blue\"> |-global_flatten: max</span>"
            ],
            "text/plain": [
              "<IPython.core.display.HTML object>"
            ]
          },
          "metadata": {
            "tags": []
          }
        },
        {
          "output_type": "display_data",
          "data": {
            "text/html": [
              "<span style=\"color:cyan\"> |-kernel_size_0: 5</span>"
            ],
            "text/plain": [
              "<IPython.core.display.HTML object>"
            ]
          },
          "metadata": {
            "tags": []
          }
        },
        {
          "output_type": "display_data",
          "data": {
            "text/html": [
              "<span style=\"color:blue\"> |-kernel_size_1: 5</span>"
            ],
            "text/plain": [
              "<IPython.core.display.HTML object>"
            ]
          },
          "metadata": {
            "tags": []
          }
        },
        {
          "output_type": "display_data",
          "data": {
            "text/html": [
              "<span style=\"color:cyan\"> |-kernel_size_2: 5</span>"
            ],
            "text/plain": [
              "<IPython.core.display.HTML object>"
            ]
          },
          "metadata": {
            "tags": []
          }
        },
        {
          "output_type": "display_data",
          "data": {
            "text/html": [
              "<span style=\"color:blue\"> |-learning_rate: 0.0002803938754330683</span>"
            ],
            "text/plain": [
              "<IPython.core.display.HTML object>"
            ]
          },
          "metadata": {
            "tags": []
          }
        },
        {
          "output_type": "display_data",
          "data": {
            "text/html": [
              "<span style=\"color:cyan\"> |-neurons_0: 192</span>"
            ],
            "text/plain": [
              "<IPython.core.display.HTML object>"
            ]
          },
          "metadata": {
            "tags": []
          }
        },
        {
          "output_type": "display_data",
          "data": {
            "text/html": [
              "<span style=\"color:blue\"> |-neurons_1: 128</span>"
            ],
            "text/plain": [
              "<IPython.core.display.HTML object>"
            ]
          },
          "metadata": {
            "tags": []
          }
        },
        {
          "output_type": "display_data",
          "data": {
            "text/html": [
              "<span style=\"color:cyan\"> |-pooling0: avg</span>"
            ],
            "text/plain": [
              "<IPython.core.display.HTML object>"
            ]
          },
          "metadata": {
            "tags": []
          }
        },
        {
          "output_type": "display_data",
          "data": {
            "text/html": [
              "<span style=\"color:blue\"> |-pooling1: max</span>"
            ],
            "text/plain": [
              "<IPython.core.display.HTML object>"
            ]
          },
          "metadata": {
            "tags": []
          }
        },
        {
          "output_type": "display_data",
          "data": {
            "text/html": [
              "<span style=\"color:cyan\"> |-pooling2: max</span>"
            ],
            "text/plain": [
              "<IPython.core.display.HTML object>"
            ]
          },
          "metadata": {
            "tags": []
          }
        },
        {
          "output_type": "display_data",
          "data": {
            "text/html": [
              "<span style=\"color:blue\"> |-tuner/bracket: 4</span>"
            ],
            "text/plain": [
              "<IPython.core.display.HTML object>"
            ]
          },
          "metadata": {
            "tags": []
          }
        },
        {
          "output_type": "display_data",
          "data": {
            "text/html": [
              "<span style=\"color:cyan\"> |-tuner/epochs: 12</span>"
            ],
            "text/plain": [
              "<IPython.core.display.HTML object>"
            ]
          },
          "metadata": {
            "tags": []
          }
        },
        {
          "output_type": "display_data",
          "data": {
            "text/html": [
              "<span style=\"color:blue\"> |-tuner/initial_epoch: 4</span>"
            ],
            "text/plain": [
              "<IPython.core.display.HTML object>"
            ]
          },
          "metadata": {
            "tags": []
          }
        },
        {
          "output_type": "display_data",
          "data": {
            "text/html": [
              "<span style=\"color:cyan\"> |-tuner/round: 2</span>"
            ],
            "text/plain": [
              "<IPython.core.display.HTML object>"
            ]
          },
          "metadata": {
            "tags": []
          }
        },
        {
          "output_type": "display_data",
          "data": {
            "text/html": [
              "<span style=\"color:blue\"> |-tuner/trial_id: 416774ae5aa7883de263d6fc0b9c4e66</span>"
            ],
            "text/plain": [
              "<IPython.core.display.HTML object>"
            ]
          },
          "metadata": {
            "tags": []
          }
        },
        {
          "output_type": "stream",
          "text": [
            "Testing model:\n",
            "Model: \"model\"\n",
            "_________________________________________________________________\n",
            "Layer (type)                 Output Shape              Param #   \n",
            "=================================================================\n",
            "input_1 (InputLayer)         [(None, 32, 32, 3)]       0         \n",
            "_________________________________________________________________\n",
            "conv2d (Conv2D)              (None, 32, 32, 24)        672       \n",
            "_________________________________________________________________\n",
            "average_pooling2d (AveragePo (None, 16, 16, 24)        0         \n",
            "_________________________________________________________________\n",
            "batch_normalization (BatchNo (None, 16, 16, 24)        96        \n",
            "_________________________________________________________________\n",
            "re_lu (ReLU)                 (None, 16, 16, 24)        0         \n",
            "_________________________________________________________________\n",
            "conv2d_1 (Conv2D)            (None, 16, 16, 8)         3080      \n",
            "_________________________________________________________________\n",
            "max_pooling2d (MaxPooling2D) (None, 8, 8, 8)           0         \n",
            "_________________________________________________________________\n",
            "batch_normalization_1 (Batch (None, 8, 8, 8)           32        \n",
            "_________________________________________________________________\n",
            "re_lu_1 (ReLU)               (None, 8, 8, 8)           0         \n",
            "_________________________________________________________________\n",
            "conv2d_2 (Conv2D)            (None, 8, 8, 20)          4020      \n",
            "_________________________________________________________________\n",
            "average_pooling2d_1 (Average (None, 4, 4, 20)          0         \n",
            "_________________________________________________________________\n",
            "batch_normalization_2 (Batch (None, 4, 4, 20)          80        \n",
            "_________________________________________________________________\n",
            "re_lu_2 (ReLU)               (None, 4, 4, 20)          0         \n",
            "_________________________________________________________________\n",
            "global_average_pooling2d (Gl (None, 20)                0         \n",
            "_________________________________________________________________\n",
            "dense (Dense)                (None, 256)               5376      \n",
            "_________________________________________________________________\n",
            "dense_1 (Dense)              (None, 192)               49344     \n",
            "_________________________________________________________________\n",
            "dense_2 (Dense)              (None, 10)                1930      \n",
            "=================================================================\n",
            "Total params: 64,630\n",
            "Trainable params: 64,526\n",
            "Non-trainable params: 104\n",
            "_________________________________________________________________\n",
            "Epoch 5/12\n",
            "572/572 [==============================] - 18s 32ms/step - accuracy: 0.4540 - loss: 1.5701 - val_accuracy: 0.6711 - val_loss: 1.0566\n",
            "Epoch 6/12\n",
            "572/572 [==============================] - 15s 26ms/step - accuracy: 0.7548 - loss: 0.7720 - val_accuracy: 0.7572 - val_loss: 0.7750\n",
            "Epoch 7/12\n",
            "572/572 [==============================] - 14s 24ms/step - accuracy: 0.8067 - loss: 0.6162 - val_accuracy: 0.7900 - val_loss: 0.6681\n",
            "Epoch 8/12\n",
            "482/572 [========================>.....] - ETA: 1s - accuracy: 0.8297 - loss: 0.5503\b\b\b\b\b\b\b\b\b\b\b\b\b\b\b\b\b\b\b\b\b\b\b\b\b\b\b\b\b\b\b\b\b\b\b\b\b\b\b\b\b\b\b\b\b\b\b\b\b\b\b\b\b\b\b\b\b\b\b\b\b\b\b\b\b\b\b\b\b\b\b\b\b\b\b\b\b\b\b\b\b\b\b\b"
          ],
          "name": "stdout"
        }
      ]
    },
    {
      "cell_type": "markdown",
      "metadata": {
        "id": "LEiaSa4TXKHJ",
        "colab_type": "text"
      },
      "source": [
        "Get the optimal hyperparameters"
      ]
    },
    {
      "cell_type": "code",
      "metadata": {
        "id": "NzdTySHMVG49",
        "colab_type": "code",
        "colab": {}
      },
      "source": [
        "best_hps = tuner.get_best_hyperparameters(num_trials = 1)[0]\n",
        "\n",
        "print(f\"\"\"\n",
        "The hyperparameter search is complete. The optimal number of conv layers is {best_hps.get('conv_layers')} and the optimal learning rate for the optimizer\n",
        "is {best_hps.get('learning_rate')}.\n",
        "\"\"\")"
      ],
      "execution_count": null,
      "outputs": []
    },
    {
      "cell_type": "markdown",
      "metadata": {
        "id": "JWIv2-b5aEMQ",
        "colab_type": "text"
      },
      "source": [
        "Then retrain using the best model!"
      ]
    },
    {
      "cell_type": "code",
      "metadata": {
        "id": "CWVWfaIiaGOk",
        "colab_type": "code",
        "colab": {}
      },
      "source": [
        "# Build the model with the optimal hyperparameters and train it on the data\n",
        "model = tuner.hypermodel.build(best_hps)\n",
        "model.fit(ds_train, epochs = 10, validation_data = ds_test)"
      ],
      "execution_count": null,
      "outputs": []
    }
  ]
}